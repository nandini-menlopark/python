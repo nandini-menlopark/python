## Write a function that will generate an electronic cake
## function will take two argument: number of layers, and material (any letter)

import numpy as np

def getLayer(layers = 7, layer = 5, myletter = '*'):
    return(f"""{''.join(np.repeat(' ', layers - layer))}""" + f"""[{''.join(np.repeat(myletter, 2*layer - 1))}]""")

def getCherry(layers = 7, cherryletter = '@'):
    return(f"""{''.join(np.repeat(' ', layers))}""" + f"""{cherryletter}""")


def typeMyCake(layers = 5, material = '*'):
    cake = getCherry(layers = layers)
    for i in range(1, layers + 1):
        cake = f"""{cake}\n{getLayer(layers, i, material)}"""
    
    return(cake)
   



print(typeMyCake(layers = 25, material = "o"))
